print('Hello world !')

f= open('github.com/skshamshi/LLC/blob/main/Trace.txt','r')

print(f.name)

f.close()