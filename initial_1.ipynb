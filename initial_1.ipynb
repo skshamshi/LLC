{
  "nbformat": 4,
  "nbformat_minor": 0,
  "metadata": {
    "colab": {
      "provenance": [],
      "authorship_tag": "ABX9TyMEjtg2Q74PZ8d3aFk3MEA7",
      "include_colab_link": true
    },
    "kernelspec": {
      "name": "python3",
      "display_name": "Python 3"
    },
    "language_info": {
      "name": "python"
    }
  },
  "cells": [
    {
      "cell_type": "markdown",
      "metadata": {
        "id": "view-in-github",
        "colab_type": "text"
      },
      "source": [
        "<a href=\"https://colab.research.google.com/github/skshamshi/LLC/blob/main/initial_1.ipynb\" target=\"_parent\"><img src=\"https://colab.research.google.com/assets/colab-badge.svg\" alt=\"Open In Colab\"/></a>"
      ]
    },
    {
      "cell_type": "code",
      "execution_count": null,
      "metadata": {
        "id": "iMA3L1MKVQUO"
      },
      "outputs": [],
      "source": [
        "print('Hello world !')\n",
        "\n",
        "f= open('github.com/skshamshi/LLC/blob/main/Trace.txt','r')\n",
        "\n",
        "print(f.name)\n",
        "\n",
        "f.close()"
      ]
    }
  ]
}